{
 "cells": [
  {
   "cell_type": "code",
   "execution_count": 1,
   "id": "d3c50651",
   "metadata": {},
   "outputs": [],
   "source": [
    "import numpy as np\n",
    "import pandas as pd\n",
    "import datetime as dt"
   ]
  },
  {
   "cell_type": "code",
   "execution_count": 2,
   "id": "a93d2435",
   "metadata": {},
   "outputs": [
    {
     "data": {
      "text/html": [
       "<div>\n",
       "<style scoped>\n",
       "    .dataframe tbody tr th:only-of-type {\n",
       "        vertical-align: middle;\n",
       "    }\n",
       "\n",
       "    .dataframe tbody tr th {\n",
       "        vertical-align: top;\n",
       "    }\n",
       "\n",
       "    .dataframe thead th {\n",
       "        text-align: right;\n",
       "    }\n",
       "</style>\n",
       "<table border=\"1\" class=\"dataframe\">\n",
       "  <thead>\n",
       "    <tr style=\"text-align: right;\">\n",
       "      <th></th>\n",
       "      <th>order_id</th>\n",
       "      <th>order_placed_at</th>\n",
       "      <th>order_delivered_at</th>\n",
       "    </tr>\n",
       "  </thead>\n",
       "  <tbody>\n",
       "    <tr>\n",
       "      <th>0</th>\n",
       "      <td>1523111</td>\n",
       "      <td>2023-03-01 00:00:59</td>\n",
       "      <td>2023-03-01 00:18:07.443132</td>\n",
       "    </tr>\n",
       "    <tr>\n",
       "      <th>1</th>\n",
       "      <td>1523112</td>\n",
       "      <td>2023-03-01 00:03:59</td>\n",
       "      <td>2023-03-01 00:19:34.925241</td>\n",
       "    </tr>\n",
       "    <tr>\n",
       "      <th>2</th>\n",
       "      <td>1523113</td>\n",
       "      <td>2023-03-01 00:07:22</td>\n",
       "      <td>2023-03-01 00:22:28.291385</td>\n",
       "    </tr>\n",
       "    <tr>\n",
       "      <th>3</th>\n",
       "      <td>1523114</td>\n",
       "      <td>2023-03-01 00:07:47</td>\n",
       "      <td>2023-03-01 00:46:19.019399</td>\n",
       "    </tr>\n",
       "    <tr>\n",
       "      <th>4</th>\n",
       "      <td>1523115</td>\n",
       "      <td>2023-03-01 00:09:03</td>\n",
       "      <td>2023-03-01 00:25:13.619056</td>\n",
       "    </tr>\n",
       "    <tr>\n",
       "      <th>...</th>\n",
       "      <td>...</td>\n",
       "      <td>...</td>\n",
       "      <td>...</td>\n",
       "    </tr>\n",
       "    <tr>\n",
       "      <th>14995</th>\n",
       "      <td>1538106</td>\n",
       "      <td>2023-03-27 23:37:05</td>\n",
       "      <td>2023-03-27 23:52:37.409378</td>\n",
       "    </tr>\n",
       "    <tr>\n",
       "      <th>14996</th>\n",
       "      <td>1538107</td>\n",
       "      <td>2023-03-27 23:47:38</td>\n",
       "      <td>2023-03-28 00:04:22.672912</td>\n",
       "    </tr>\n",
       "    <tr>\n",
       "      <th>14997</th>\n",
       "      <td>1538108</td>\n",
       "      <td>2023-03-27 23:50:16</td>\n",
       "      <td>2023-03-28 00:05:40.676238</td>\n",
       "    </tr>\n",
       "    <tr>\n",
       "      <th>14998</th>\n",
       "      <td>1538109</td>\n",
       "      <td>2023-03-27 23:52:44</td>\n",
       "      <td>2023-03-28 00:08:41.810358</td>\n",
       "    </tr>\n",
       "    <tr>\n",
       "      <th>14999</th>\n",
       "      <td>1538110</td>\n",
       "      <td>2023-03-27 23:58:20</td>\n",
       "      <td>2023-03-28 00:13:42.499311</td>\n",
       "    </tr>\n",
       "  </tbody>\n",
       "</table>\n",
       "<p>15000 rows × 3 columns</p>\n",
       "</div>"
      ],
      "text/plain": [
       "       order_id      order_placed_at          order_delivered_at\n",
       "0       1523111  2023-03-01 00:00:59  2023-03-01 00:18:07.443132\n",
       "1       1523112  2023-03-01 00:03:59  2023-03-01 00:19:34.925241\n",
       "2       1523113  2023-03-01 00:07:22  2023-03-01 00:22:28.291385\n",
       "3       1523114  2023-03-01 00:07:47  2023-03-01 00:46:19.019399\n",
       "4       1523115  2023-03-01 00:09:03  2023-03-01 00:25:13.619056\n",
       "...         ...                  ...                         ...\n",
       "14995   1538106  2023-03-27 23:37:05  2023-03-27 23:52:37.409378\n",
       "14996   1538107  2023-03-27 23:47:38  2023-03-28 00:04:22.672912\n",
       "14997   1538108  2023-03-27 23:50:16  2023-03-28 00:05:40.676238\n",
       "14998   1538109  2023-03-27 23:52:44  2023-03-28 00:08:41.810358\n",
       "14999   1538110  2023-03-27 23:58:20  2023-03-28 00:13:42.499311\n",
       "\n",
       "[15000 rows x 3 columns]"
      ]
     },
     "execution_count": 2,
     "metadata": {},
     "output_type": "execute_result"
    }
   ],
   "source": [
    "df=pd.read_csv(r'C:\\Users\\Suvakanta\\Desktop\\DS_Internship_2023\\Data Analysis\\diminos_data.csv')\n",
    "df"
   ]
  },
  {
   "cell_type": "code",
   "execution_count": 3,
   "id": "5b715a66",
   "metadata": {},
   "outputs": [
    {
     "name": "stdout",
     "output_type": "stream",
     "text": [
      "<class 'pandas.core.frame.DataFrame'>\n",
      "RangeIndex: 15000 entries, 0 to 14999\n",
      "Data columns (total 3 columns):\n",
      " #   Column              Non-Null Count  Dtype \n",
      "---  ------              --------------  ----- \n",
      " 0   order_id            15000 non-null  int64 \n",
      " 1   order_placed_at     15000 non-null  object\n",
      " 2   order_delivered_at  15000 non-null  object\n",
      "dtypes: int64(1), object(2)\n",
      "memory usage: 351.7+ KB\n"
     ]
    }
   ],
   "source": [
    "df.info()"
   ]
  },
  {
   "cell_type": "code",
   "execution_count": 4,
   "id": "ea720c18",
   "metadata": {},
   "outputs": [
    {
     "data": {
      "text/plain": [
       "order_id              0\n",
       "order_placed_at       0\n",
       "order_delivered_at    0\n",
       "dtype: int64"
      ]
     },
     "execution_count": 4,
     "metadata": {},
     "output_type": "execute_result"
    }
   ],
   "source": [
    "df.isnull().sum()"
   ]
  },
  {
   "cell_type": "code",
   "execution_count": 5,
   "id": "113b554c",
   "metadata": {},
   "outputs": [],
   "source": [
    "df['order_placed_date']=df['order_placed_at'].apply(lambda x:x.split()[0])\n",
    "df['order_placed_time']=df['order_placed_at'].apply(lambda x:x.split()[1])\n",
    "df['order_delivered_date']=df['order_delivered_at'].apply(lambda x:x.split()[0])\n",
    "df['order_delivered_time']=df['order_delivered_at'].apply(lambda x:x.split()[1])"
   ]
  },
  {
   "cell_type": "code",
   "execution_count": 6,
   "id": "70f285d2",
   "metadata": {},
   "outputs": [],
   "source": [
    "df.drop(columns=['order_placed_at','order_delivered_at'],inplace=True)"
   ]
  },
  {
   "cell_type": "code",
   "execution_count": 7,
   "id": "874995ee",
   "metadata": {},
   "outputs": [
    {
     "data": {
      "text/html": [
       "<div>\n",
       "<style scoped>\n",
       "    .dataframe tbody tr th:only-of-type {\n",
       "        vertical-align: middle;\n",
       "    }\n",
       "\n",
       "    .dataframe tbody tr th {\n",
       "        vertical-align: top;\n",
       "    }\n",
       "\n",
       "    .dataframe thead th {\n",
       "        text-align: right;\n",
       "    }\n",
       "</style>\n",
       "<table border=\"1\" class=\"dataframe\">\n",
       "  <thead>\n",
       "    <tr style=\"text-align: right;\">\n",
       "      <th></th>\n",
       "      <th>order_id</th>\n",
       "      <th>order_placed_date</th>\n",
       "      <th>order_placed_time</th>\n",
       "      <th>order_delivered_date</th>\n",
       "      <th>order_delivered_time</th>\n",
       "    </tr>\n",
       "  </thead>\n",
       "  <tbody>\n",
       "    <tr>\n",
       "      <th>0</th>\n",
       "      <td>1523111</td>\n",
       "      <td>2023-03-01</td>\n",
       "      <td>00:00:59</td>\n",
       "      <td>2023-03-01</td>\n",
       "      <td>00:18:07.443132</td>\n",
       "    </tr>\n",
       "    <tr>\n",
       "      <th>1</th>\n",
       "      <td>1523112</td>\n",
       "      <td>2023-03-01</td>\n",
       "      <td>00:03:59</td>\n",
       "      <td>2023-03-01</td>\n",
       "      <td>00:19:34.925241</td>\n",
       "    </tr>\n",
       "    <tr>\n",
       "      <th>2</th>\n",
       "      <td>1523113</td>\n",
       "      <td>2023-03-01</td>\n",
       "      <td>00:07:22</td>\n",
       "      <td>2023-03-01</td>\n",
       "      <td>00:22:28.291385</td>\n",
       "    </tr>\n",
       "    <tr>\n",
       "      <th>3</th>\n",
       "      <td>1523114</td>\n",
       "      <td>2023-03-01</td>\n",
       "      <td>00:07:47</td>\n",
       "      <td>2023-03-01</td>\n",
       "      <td>00:46:19.019399</td>\n",
       "    </tr>\n",
       "    <tr>\n",
       "      <th>4</th>\n",
       "      <td>1523115</td>\n",
       "      <td>2023-03-01</td>\n",
       "      <td>00:09:03</td>\n",
       "      <td>2023-03-01</td>\n",
       "      <td>00:25:13.619056</td>\n",
       "    </tr>\n",
       "  </tbody>\n",
       "</table>\n",
       "</div>"
      ],
      "text/plain": [
       "   order_id order_placed_date order_placed_time order_delivered_date  \\\n",
       "0   1523111        2023-03-01          00:00:59           2023-03-01   \n",
       "1   1523112        2023-03-01          00:03:59           2023-03-01   \n",
       "2   1523113        2023-03-01          00:07:22           2023-03-01   \n",
       "3   1523114        2023-03-01          00:07:47           2023-03-01   \n",
       "4   1523115        2023-03-01          00:09:03           2023-03-01   \n",
       "\n",
       "  order_delivered_time  \n",
       "0      00:18:07.443132  \n",
       "1      00:19:34.925241  \n",
       "2      00:22:28.291385  \n",
       "3      00:46:19.019399  \n",
       "4      00:25:13.619056  "
      ]
     },
     "execution_count": 7,
     "metadata": {},
     "output_type": "execute_result"
    }
   ],
   "source": [
    "df.head()"
   ]
  },
  {
   "cell_type": "code",
   "execution_count": 8,
   "id": "d1403225",
   "metadata": {},
   "outputs": [],
   "source": [
    "#df['order_place_date']=df['order_placed_date'].apply(lambda x:x.split(\"-\")[2])\n",
    "#df['order_placed_month']=df['order_placed_date'].apply(lambda x:x.split(\"-\")[1])\n",
    "#df['order_placed_year']=df['order_placed_date'].apply(lambda x:x.split(\"-\")[0])\n",
    "\n",
    "#df['order_deliver_date']=df['order_delivered_date'].apply(lambda x:x.split(\"-\")[2])\n",
    "#df['order_delivered_month']=df['order_delivered_date'].apply(lambda x:x.split(\"-\")[1])\n",
    "#df['order_delivered_year']=df['order_delivered_date'].apply(lambda x:x.split(\"-\")[0])\n",
    "\n",
    "#df.drop(columns=['order_placed_date','order_delivered_date'],inplace=True)"
   ]
  },
  {
   "cell_type": "code",
   "execution_count": 9,
   "id": "2869b5cb",
   "metadata": {},
   "outputs": [],
   "source": [
    "#df['order_place_date']=df['order_place_date'].astype(int)\n",
    "#df['order_placed_month']=df['order_placed_month'].astype(int)\n",
    "#df['order_placed_year']=df['order_placed_year'].astype(int)\n",
    "\n",
    "#df['order_deliver_date']=df['order_deliver_date'].astype(int)\n",
    "#df['order_delivered_month']=df['order_delivered_month'].astype(int)\n",
    "#df['order_delivered_year']=df['order_delivered_year'].astype(int)"
   ]
  },
  {
   "cell_type": "code",
   "execution_count": 10,
   "id": "d4383187",
   "metadata": {},
   "outputs": [],
   "source": [
    "def minute_placed(timestamp):\n",
    "    hours, minutes, seconds = timestamp.split(\":\")\n",
    "    minutes = int(minutes)\n",
    "    seconds = int(seconds)\n",
    "    total_minutes = minutes + (seconds / 60)\n",
    "    return np.round(total_minutes,2)\n",
    "\n",
    "df['order_placed_time(in minutes)']=df['order_placed_time'].apply(minute_placed)"
   ]
  },
  {
   "cell_type": "code",
   "execution_count": 11,
   "id": "d6ecad76",
   "metadata": {},
   "outputs": [],
   "source": [
    "def minute_delivered(timestamp):\n",
    "    hours, minutes, seconds = timestamp.split(\":\")\n",
    "    minutes = int(minutes)\n",
    "    seconds = int(seconds.split('.')[0])\n",
    "    total_minutes = minutes + (seconds / 60)\n",
    "    return np.round(total_minutes,2)\n",
    "\n",
    "df['order_delivered_time(in minutes)']=df['order_delivered_time'].apply(minute_delivered)"
   ]
  },
  {
   "cell_type": "code",
   "execution_count": 12,
   "id": "dc08b393",
   "metadata": {},
   "outputs": [],
   "source": [
    "df.drop(columns=['order_placed_time','order_delivered_time'],inplace=True)"
   ]
  },
  {
   "cell_type": "code",
   "execution_count": 13,
   "id": "e9368a6b",
   "metadata": {},
   "outputs": [
    {
     "data": {
      "text/html": [
       "<div>\n",
       "<style scoped>\n",
       "    .dataframe tbody tr th:only-of-type {\n",
       "        vertical-align: middle;\n",
       "    }\n",
       "\n",
       "    .dataframe tbody tr th {\n",
       "        vertical-align: top;\n",
       "    }\n",
       "\n",
       "    .dataframe thead th {\n",
       "        text-align: right;\n",
       "    }\n",
       "</style>\n",
       "<table border=\"1\" class=\"dataframe\">\n",
       "  <thead>\n",
       "    <tr style=\"text-align: right;\">\n",
       "      <th></th>\n",
       "      <th>order_id</th>\n",
       "      <th>order_placed_date</th>\n",
       "      <th>order_delivered_date</th>\n",
       "      <th>order_placed_time(in minutes)</th>\n",
       "      <th>order_delivered_time(in minutes)</th>\n",
       "    </tr>\n",
       "  </thead>\n",
       "  <tbody>\n",
       "    <tr>\n",
       "      <th>0</th>\n",
       "      <td>1523111</td>\n",
       "      <td>2023-03-01</td>\n",
       "      <td>2023-03-01</td>\n",
       "      <td>0.98</td>\n",
       "      <td>18.12</td>\n",
       "    </tr>\n",
       "    <tr>\n",
       "      <th>1</th>\n",
       "      <td>1523112</td>\n",
       "      <td>2023-03-01</td>\n",
       "      <td>2023-03-01</td>\n",
       "      <td>3.98</td>\n",
       "      <td>19.57</td>\n",
       "    </tr>\n",
       "    <tr>\n",
       "      <th>2</th>\n",
       "      <td>1523113</td>\n",
       "      <td>2023-03-01</td>\n",
       "      <td>2023-03-01</td>\n",
       "      <td>7.37</td>\n",
       "      <td>22.47</td>\n",
       "    </tr>\n",
       "    <tr>\n",
       "      <th>3</th>\n",
       "      <td>1523114</td>\n",
       "      <td>2023-03-01</td>\n",
       "      <td>2023-03-01</td>\n",
       "      <td>7.78</td>\n",
       "      <td>46.32</td>\n",
       "    </tr>\n",
       "    <tr>\n",
       "      <th>4</th>\n",
       "      <td>1523115</td>\n",
       "      <td>2023-03-01</td>\n",
       "      <td>2023-03-01</td>\n",
       "      <td>9.05</td>\n",
       "      <td>25.22</td>\n",
       "    </tr>\n",
       "  </tbody>\n",
       "</table>\n",
       "</div>"
      ],
      "text/plain": [
       "   order_id order_placed_date order_delivered_date  \\\n",
       "0   1523111        2023-03-01           2023-03-01   \n",
       "1   1523112        2023-03-01           2023-03-01   \n",
       "2   1523113        2023-03-01           2023-03-01   \n",
       "3   1523114        2023-03-01           2023-03-01   \n",
       "4   1523115        2023-03-01           2023-03-01   \n",
       "\n",
       "   order_placed_time(in minutes)  order_delivered_time(in minutes)  \n",
       "0                           0.98                             18.12  \n",
       "1                           3.98                             19.57  \n",
       "2                           7.37                             22.47  \n",
       "3                           7.78                             46.32  \n",
       "4                           9.05                             25.22  "
      ]
     },
     "execution_count": 13,
     "metadata": {},
     "output_type": "execute_result"
    }
   ],
   "source": [
    "df.head()"
   ]
  },
  {
   "cell_type": "code",
   "execution_count": 14,
   "id": "b84ddade",
   "metadata": {},
   "outputs": [
    {
     "data": {
      "text/html": [
       "<div>\n",
       "<style scoped>\n",
       "    .dataframe tbody tr th:only-of-type {\n",
       "        vertical-align: middle;\n",
       "    }\n",
       "\n",
       "    .dataframe tbody tr th {\n",
       "        vertical-align: top;\n",
       "    }\n",
       "\n",
       "    .dataframe thead th {\n",
       "        text-align: right;\n",
       "    }\n",
       "</style>\n",
       "<table border=\"1\" class=\"dataframe\">\n",
       "  <thead>\n",
       "    <tr style=\"text-align: right;\">\n",
       "      <th></th>\n",
       "      <th>order_id</th>\n",
       "      <th>order_placed_time(in minutes)</th>\n",
       "      <th>order_delivered_time(in minutes)</th>\n",
       "    </tr>\n",
       "  </thead>\n",
       "  <tbody>\n",
       "    <tr>\n",
       "      <th>count</th>\n",
       "      <td>1.500000e+04</td>\n",
       "      <td>15000.000000</td>\n",
       "      <td>15000.000000</td>\n",
       "    </tr>\n",
       "    <tr>\n",
       "      <th>mean</th>\n",
       "      <td>1.530610e+06</td>\n",
       "      <td>29.818271</td>\n",
       "      <td>30.049294</td>\n",
       "    </tr>\n",
       "    <tr>\n",
       "      <th>std</th>\n",
       "      <td>4.330271e+03</td>\n",
       "      <td>17.312219</td>\n",
       "      <td>17.256351</td>\n",
       "    </tr>\n",
       "    <tr>\n",
       "      <th>min</th>\n",
       "      <td>1.523111e+06</td>\n",
       "      <td>0.000000</td>\n",
       "      <td>0.000000</td>\n",
       "    </tr>\n",
       "    <tr>\n",
       "      <th>25%</th>\n",
       "      <td>1.526861e+06</td>\n",
       "      <td>14.865000</td>\n",
       "      <td>15.130000</td>\n",
       "    </tr>\n",
       "    <tr>\n",
       "      <th>50%</th>\n",
       "      <td>1.530610e+06</td>\n",
       "      <td>29.710000</td>\n",
       "      <td>30.150000</td>\n",
       "    </tr>\n",
       "    <tr>\n",
       "      <th>75%</th>\n",
       "      <td>1.534360e+06</td>\n",
       "      <td>44.585000</td>\n",
       "      <td>44.930000</td>\n",
       "    </tr>\n",
       "    <tr>\n",
       "      <th>max</th>\n",
       "      <td>1.538110e+06</td>\n",
       "      <td>59.980000</td>\n",
       "      <td>59.980000</td>\n",
       "    </tr>\n",
       "  </tbody>\n",
       "</table>\n",
       "</div>"
      ],
      "text/plain": [
       "           order_id  order_placed_time(in minutes)  \\\n",
       "count  1.500000e+04                   15000.000000   \n",
       "mean   1.530610e+06                      29.818271   \n",
       "std    4.330271e+03                      17.312219   \n",
       "min    1.523111e+06                       0.000000   \n",
       "25%    1.526861e+06                      14.865000   \n",
       "50%    1.530610e+06                      29.710000   \n",
       "75%    1.534360e+06                      44.585000   \n",
       "max    1.538110e+06                      59.980000   \n",
       "\n",
       "       order_delivered_time(in minutes)  \n",
       "count                      15000.000000  \n",
       "mean                          30.049294  \n",
       "std                           17.256351  \n",
       "min                            0.000000  \n",
       "25%                           15.130000  \n",
       "50%                           30.150000  \n",
       "75%                           44.930000  \n",
       "max                           59.980000  "
      ]
     },
     "execution_count": 14,
     "metadata": {},
     "output_type": "execute_result"
    }
   ],
   "source": [
    "df.describe()"
   ]
  },
  {
   "cell_type": "code",
   "execution_count": 16,
   "id": "1f9a6bd3",
   "metadata": {},
   "outputs": [],
   "source": [
    "df['order_placed_date'] = pd.to_datetime(df['order_placed_date'])\n",
    "df['order_delivered_date'] = pd.to_datetime(df['order_delivered_date'])"
   ]
  },
  {
   "cell_type": "code",
   "execution_count": 17,
   "id": "5114855a",
   "metadata": {},
   "outputs": [
    {
     "name": "stdout",
     "output_type": "stream",
     "text": [
      "<class 'pandas.core.frame.DataFrame'>\n",
      "RangeIndex: 15000 entries, 0 to 14999\n",
      "Data columns (total 5 columns):\n",
      " #   Column                            Non-Null Count  Dtype         \n",
      "---  ------                            --------------  -----         \n",
      " 0   order_id                          15000 non-null  int64         \n",
      " 1   order_placed_date                 15000 non-null  datetime64[ns]\n",
      " 2   order_delivered_date              15000 non-null  datetime64[ns]\n",
      " 3   order_placed_time(in minutes)     15000 non-null  float64       \n",
      " 4   order_delivered_time(in minutes)  15000 non-null  float64       \n",
      "dtypes: datetime64[ns](2), float64(2), int64(1)\n",
      "memory usage: 586.1 KB\n"
     ]
    }
   ],
   "source": [
    "df.info()"
   ]
  },
  {
   "cell_type": "code",
   "execution_count": 51,
   "id": "dcf19e18",
   "metadata": {},
   "outputs": [
    {
     "name": "stdout",
     "output_type": "stream",
     "text": [
      "Maximum order per day : 597\n",
      "\n",
      "Minimum order per day : 492\n",
      "\n",
      "Average order per day : 556.0\n"
     ]
    }
   ],
   "source": [
    "print('Maximum order per day :',df['order_placed_date'].dt.day.value_counts().max())\n",
    "print()\n",
    "print('Minimum order per day :',df['order_placed_date'].dt.day.value_counts().min())\n",
    "print()\n",
    "print('Average order per day :',np.round(df['order_placed_date'].dt.day.value_counts().mean()))"
   ]
  },
  {
   "cell_type": "code",
   "execution_count": 40,
   "id": "53500f1e",
   "metadata": {},
   "outputs": [],
   "source": [
    "df['Total Delivery time']=df['order_delivered_time(in minutes)'] - df['order_placed_time(in minutes)']"
   ]
  },
  {
   "cell_type": "code",
   "execution_count": 41,
   "id": "a62a28ea",
   "metadata": {},
   "outputs": [
    {
     "data": {
      "text/html": [
       "<div>\n",
       "<style scoped>\n",
       "    .dataframe tbody tr th:only-of-type {\n",
       "        vertical-align: middle;\n",
       "    }\n",
       "\n",
       "    .dataframe tbody tr th {\n",
       "        vertical-align: top;\n",
       "    }\n",
       "\n",
       "    .dataframe thead th {\n",
       "        text-align: right;\n",
       "    }\n",
       "</style>\n",
       "<table border=\"1\" class=\"dataframe\">\n",
       "  <thead>\n",
       "    <tr style=\"text-align: right;\">\n",
       "      <th></th>\n",
       "      <th>order_id</th>\n",
       "      <th>order_placed_date</th>\n",
       "      <th>order_delivered_date</th>\n",
       "      <th>order_placed_time(in minutes)</th>\n",
       "      <th>order_delivered_time(in minutes)</th>\n",
       "      <th>Total Delivery time</th>\n",
       "    </tr>\n",
       "  </thead>\n",
       "  <tbody>\n",
       "    <tr>\n",
       "      <th>0</th>\n",
       "      <td>1523111</td>\n",
       "      <td>2023-03-01</td>\n",
       "      <td>2023-03-01</td>\n",
       "      <td>0.98</td>\n",
       "      <td>18.12</td>\n",
       "      <td>17.14</td>\n",
       "    </tr>\n",
       "    <tr>\n",
       "      <th>1</th>\n",
       "      <td>1523112</td>\n",
       "      <td>2023-03-01</td>\n",
       "      <td>2023-03-01</td>\n",
       "      <td>3.98</td>\n",
       "      <td>19.57</td>\n",
       "      <td>15.59</td>\n",
       "    </tr>\n",
       "    <tr>\n",
       "      <th>2</th>\n",
       "      <td>1523113</td>\n",
       "      <td>2023-03-01</td>\n",
       "      <td>2023-03-01</td>\n",
       "      <td>7.37</td>\n",
       "      <td>22.47</td>\n",
       "      <td>15.10</td>\n",
       "    </tr>\n",
       "    <tr>\n",
       "      <th>3</th>\n",
       "      <td>1523114</td>\n",
       "      <td>2023-03-01</td>\n",
       "      <td>2023-03-01</td>\n",
       "      <td>7.78</td>\n",
       "      <td>46.32</td>\n",
       "      <td>38.54</td>\n",
       "    </tr>\n",
       "    <tr>\n",
       "      <th>4</th>\n",
       "      <td>1523115</td>\n",
       "      <td>2023-03-01</td>\n",
       "      <td>2023-03-01</td>\n",
       "      <td>9.05</td>\n",
       "      <td>25.22</td>\n",
       "      <td>16.17</td>\n",
       "    </tr>\n",
       "  </tbody>\n",
       "</table>\n",
       "</div>"
      ],
      "text/plain": [
       "   order_id order_placed_date order_delivered_date  \\\n",
       "0   1523111        2023-03-01           2023-03-01   \n",
       "1   1523112        2023-03-01           2023-03-01   \n",
       "2   1523113        2023-03-01           2023-03-01   \n",
       "3   1523114        2023-03-01           2023-03-01   \n",
       "4   1523115        2023-03-01           2023-03-01   \n",
       "\n",
       "   order_placed_time(in minutes)  order_delivered_time(in minutes)  \\\n",
       "0                           0.98                             18.12   \n",
       "1                           3.98                             19.57   \n",
       "2                           7.37                             22.47   \n",
       "3                           7.78                             46.32   \n",
       "4                           9.05                             25.22   \n",
       "\n",
       "   Total Delivery time  \n",
       "0                17.14  \n",
       "1                15.59  \n",
       "2                15.10  \n",
       "3                38.54  \n",
       "4                16.17  "
      ]
     },
     "execution_count": 41,
     "metadata": {},
     "output_type": "execute_result"
    }
   ],
   "source": [
    "df.head()"
   ]
  },
  {
   "cell_type": "code",
   "execution_count": 43,
   "id": "da8cb46f",
   "metadata": {},
   "outputs": [
    {
     "name": "stdout",
     "output_type": "stream",
     "text": [
      "Maximum delivery time : 55.31\n",
      "\n",
      "Minimum delivery time : -56.14\n",
      "\n",
      "Average delivery time : 15.310000000000002\n"
     ]
    }
   ],
   "source": [
    "print('Maximum delivery time :',df['Total Delivery time'].max())\n",
    "print()\n",
    "print('Minimum delivery time :',df['Total Delivery time'].min())\n",
    "print()\n",
    "print('Average delivery time :',df['Total Delivery time'].median())"
   ]
  },
  {
   "cell_type": "code",
   "execution_count": 49,
   "id": "7c83e3c6",
   "metadata": {},
   "outputs": [
    {
     "data": {
      "text/plain": [
       "21.08049999999999"
      ]
     },
     "execution_count": 49,
     "metadata": {},
     "output_type": "execute_result"
    }
   ],
   "source": [
    "np.percentile(df['Total Delivery time'],95)"
   ]
  },
  {
   "cell_type": "code",
   "execution_count": 50,
   "id": "adf1f2af",
   "metadata": {},
   "outputs": [
    {
     "name": "stdout",
     "output_type": "stream",
     "text": [
      "98.99333333333334\n",
      "\n",
      "1.0066666666666666\n"
     ]
    }
   ],
   "source": [
    "print((df[df['Total Delivery time']<=31.00]['Total Delivery time'].count())/len(df)*100)\n",
    "print()\n",
    "print((df[df['Total Delivery time']>31.00]['Total Delivery time'].count())/len(df)*100)"
   ]
  },
  {
   "cell_type": "code",
   "execution_count": 77,
   "id": "deb5c9bd",
   "metadata": {},
   "outputs": [
    {
     "name": "stdout",
     "output_type": "stream",
     "text": [
      "Maximum order placed on : 2023-03-20 00:00:00\n",
      "\n",
      "Minimum order placed on : 2023-03-14 00:00:00\n"
     ]
    }
   ],
   "source": [
    "print('Maximum order placed on :',df['order_placed_date'].value_counts().sort_values(ascending=False).index[0])\n",
    "print()\n",
    "print('Minimum order placed on :',df['order_placed_date'].value_counts().sort_values(ascending=False).index[-1])"
   ]
  },
  {
   "cell_type": "markdown",
   "id": "06b60c5d",
   "metadata": {},
   "source": [
    "### Observation -->\n",
    "1. 98% of deliveries are within 31 minutes.\n",
    "2. Average Delivery Time is 15 minutes, Maximum and minimum deliver time is 55 and 0 minutes respectively.\n",
    "3. 95 percentile of orders is 21 minutes.\n",
    "4. Maximum order per day : 597 & Minimum order per day : 492 & Average order per day : 556\n",
    "5. Maximum order placed on : 2023-03-20 & Minimum order placed on : 2023-03-14"
   ]
  }
 ],
 "metadata": {
  "kernelspec": {
   "display_name": "Python 3 (ipykernel)",
   "language": "python",
   "name": "python3"
  },
  "language_info": {
   "codemirror_mode": {
    "name": "ipython",
    "version": 3
   },
   "file_extension": ".py",
   "mimetype": "text/x-python",
   "name": "python",
   "nbconvert_exporter": "python",
   "pygments_lexer": "ipython3",
   "version": "3.9.12"
  }
 },
 "nbformat": 4,
 "nbformat_minor": 5
}
